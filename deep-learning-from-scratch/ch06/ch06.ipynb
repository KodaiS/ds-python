{
 "cells": [
  {
   "cell_type": "code",
   "execution_count": 1,
   "id": "6ddb9d36",
   "metadata": {},
   "outputs": [],
   "source": [
    "import numpy as np"
   ]
  },
  {
   "cell_type": "markdown",
   "id": "d3164bd8",
   "metadata": {},
   "source": [
    "# 6.1 パラメータの効率的な更新，最適化\n",
    "- optimizerを実装して，重みパラメータと勾配を渡して更新する\n",
    "- optimizerを変えるだけで，異なる最適化アルゴリズムを使える"
   ]
  },
  {
   "cell_type": "markdown",
   "id": "9f246788",
   "metadata": {},
   "source": [
    "### Momentum\n",
    "$$\n",
    "\\boldsymbol{v} \\leftarrow \\alpha \\boldsymbol{v} - \\eta \\frac{\\partial L}{\\partial W}\n",
    "\\\\ \\\\\n",
    "W \\leftarrow W + \\boldsymbol{v}\n",
    "$$\n",
    "- $W$: 更新する重みパラメータ\n",
    "- $\\eta$: 学習率．インスタンス変数として\n",
    "- $\\boldsymbol{v}$: 速度にあたる変数．\n",
    "- $\\alpha$: 減速させる役割をもつ定数．(0.9などを使う)"
   ]
  },
  {
   "cell_type": "code",
   "execution_count": 2,
   "id": "8a8bbd7a",
   "metadata": {},
   "outputs": [],
   "source": [
    "class Momentum:\n",
    "    def __init__(self, lr=0.01, momentum=0.9):\n",
    "        # 初期化．速度の初期値はNone\n",
    "        self.lr = lr\n",
    "        self.momentum = momentum\n",
    "        self.v = None\n",
    "        \n",
    "    def update(self, params, grads):\n",
    "        # 初回更新時，vにparamsと同じ形状のデータをディクショナリとして持たせる\n",
    "        if self.v is None:\n",
    "            self.v = {}\n",
    "            for key, val in params.items():\n",
    "                self.v[key] = np.zeros_like(val)\n",
    "                \n",
    "        # paramsとvを更新する\n",
    "        for key in params.keys():\n",
    "            # 前回のvはmomentum分だけ減速，現在のparamsを元にした勾配で速度を更新\n",
    "            self.v[key] = self.momentum * self.v[key] - self.lr * grads[key]\n",
    "            # 更新後の速度でparamsを更新\n",
    "            params[key] += self.v[key]"
   ]
  },
  {
   "cell_type": "code",
   "execution_count": null,
   "id": "d40bcace",
   "metadata": {},
   "outputs": [],
   "source": []
  }
 ],
 "metadata": {
  "kernelspec": {
   "display_name": "Python 3 (ipykernel)",
   "language": "python",
   "name": "python3"
  },
  "language_info": {
   "codemirror_mode": {
    "name": "ipython",
    "version": 3
   },
   "file_extension": ".py",
   "mimetype": "text/x-python",
   "name": "python",
   "nbconvert_exporter": "python",
   "pygments_lexer": "ipython3",
   "version": "3.9.6"
  }
 },
 "nbformat": 4,
 "nbformat_minor": 5
}
