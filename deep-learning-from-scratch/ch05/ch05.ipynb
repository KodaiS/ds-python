{
 "cells": [
  {
   "cell_type": "code",
   "execution_count": 1,
   "id": "1bb97c60",
   "metadata": {},
   "outputs": [],
   "source": [
    "import numpy as np"
   ]
  },
  {
   "cell_type": "markdown",
   "id": "da39f33b",
   "metadata": {},
   "source": [
    "# 5.2 連鎖律\n",
    "- 合成関数の微分の性質\n",
    "- 高速に勾配を計算する誤差逆伝播法に応用する\n",
    "- ニューラルネット全体の関数を，各ノードの局所的な関数とその先の様々な関数の合成関数と考えて応用\n",
    "\n",
    "$$\n",
    "z = f(t) \\\\\n",
    "t = g(x, y)\n",
    "$$\n",
    "とすると，次のように合成関数の微分を求めることができる\n",
    "$$\n",
    "\\frac{\\partial z}{\\partial x} = \\frac{\\partial z}{\\partial t} \\frac{\\partial t}{\\partial x}\n",
    "$$\n",
    "\n",
    "***"
   ]
  },
  {
   "cell_type": "markdown",
   "id": "c153ed17",
   "metadata": {},
   "source": [
    "### 単純な乗算レイヤ，加算レイヤ\n",
    "\n",
    "- 単純な乗算レイヤの例．\n",
    "- 様々な複雑な演算を含む損失関数を $ L(z) $ とする．\n",
    "- その内，一つの乗算ノードで $ z = xy $ という演算が行われるとする．\n",
    "\n",
    "このとき，次のように勾配を求めることができる\n",
    "$$\n",
    "\\frac{\\partial L}{\\partial x} = \\frac{\\partial L}{\\partial z} \\frac{\\partial z}{\\partial x} = \\frac{\\partial L}{\\partial z} y \\\\　\\\\\n",
    "\\frac{\\partial L}{\\partial y} = \\frac{\\partial L}{\\partial z} \\frac{\\partial z}{\\partial y} = \\frac{\\partial L}{\\partial z} x\n",
    "$$\n",
    "- $ \\frac{\\partial L}{\\partial z} $ は乗算ノードの出力 $ z $ での $ L $ の偏微分．\n",
    "- $ x, y $ を勾配計算に用いるため，順伝播の入力を保持しておく必要がある．"
   ]
  },
  {
   "cell_type": "code",
   "execution_count": 4,
   "id": "20efe8c6",
   "metadata": {},
   "outputs": [],
   "source": [
    "class MulLayer:\n",
    "    def __init__(self):\n",
    "        self.x = None\n",
    "        self.y = None\n",
    "        \n",
    "    def forward(self, x, y):\n",
    "        self.x = x\n",
    "        self.y = y\n",
    "        out = x * y\n",
    "        return out\n",
    "    \n",
    "    def backward(self, dout):\n",
    "        dx = dout * self.y\n",
    "        dy = dout * self.x\n",
    "        return dx, dy"
   ]
  },
  {
   "cell_type": "code",
   "execution_count": 6,
   "id": "363e8ede",
   "metadata": {},
   "outputs": [],
   "source": [
    "class AddLayer:\n",
    "    def __init__(self):\n",
    "        self.x = None\n",
    "        self.y = None\n",
    "        \n",
    "    def forward(self, x, y):\n",
    "        self.x = x\n",
    "        self.y = y\n",
    "        out = x + y\n",
    "        return out\n",
    "    \n",
    "    def backward(self, dout):\n",
    "        dx = dout\n",
    "        dy = dout\n",
    "        return dx, dy"
   ]
  },
  {
   "cell_type": "markdown",
   "id": "afb7b7b7",
   "metadata": {},
   "source": [
    "# 5.5 活性化関数レイヤ"
   ]
  },
  {
   "cell_type": "markdown",
   "id": "7ff0321e",
   "metadata": {},
   "source": [
    "### ReLUレイヤ\n",
    "#### ReLU\n",
    "$$\n",
    "y = \n",
    "\\begin{cases}\n",
    "    x \\quad (x \\gt 0) \\\\\n",
    "    0 \\quad (x \\leq 0)\n",
    "\\end{cases}\n",
    "$$\n",
    "\n",
    "#### ReLUの偏微分\n",
    "$$\n",
    "\\frac{\\partial y}{\\partial x} = \n",
    "\\begin{cases}\n",
    "    1 \\quad (x \\gt 0) \\\\\n",
    "    0 \\quad (x \\leq 0)\n",
    "\\end{cases}\n",
    "$$"
   ]
  },
  {
   "cell_type": "code",
   "execution_count": 10,
   "id": "888fed21",
   "metadata": {},
   "outputs": [],
   "source": [
    "class Relu:\n",
    "    def __init__(self):\n",
    "        self.mask = None\n",
    "        \n",
    "    def forward(self, x):\n",
    "        # 入力が 0 以下のインデックスを保持し，その値は0とする\n",
    "        self.mask = (x <= 0)\n",
    "        out = x.copy()\n",
    "        out[self.mask] = 0\n",
    "        \n",
    "        return out\n",
    "    \n",
    "    def backward(self, dout):\n",
    "        # 順伝播の入力が 0 以下であったインデックスの値は 0 ，そのほかはそのまま逆伝播\n",
    "        dout[self.mask] = 0\n",
    "        dx = dout\n",
    "        \n",
    "        return dx"
   ]
  },
  {
   "cell_type": "markdown",
   "id": "1f7183a0",
   "metadata": {},
   "source": [
    "### Sigmoidレイヤ\n",
    "#### Sigmoid\n",
    "$$\n",
    "y = \\frac{1}{1 + \\exp(-x)}\n",
    "$$\n",
    "\n",
    "#### Sigmoidの偏微分\n",
    "$$\n",
    "t = 1 + \\exp(-x)\n",
    "$$\n",
    "\n",
    "とおくと，\n",
    "$$\n",
    "y = \\frac{1}{1 + \\exp(-x)} = \\frac{1}{t} = t^{-1}\n",
    "$$\n",
    "\n",
    "また，\n",
    "$$\n",
    "\\begin{align}\n",
    "\\frac{\\partial y}{\\partial t} &= -t^{-2} = -(1 + \\exp(-x))^{-2}\\\\\n",
    "\\frac{\\partial t}{\\partial x} &= -\\exp(-x)\n",
    "\\end{align}\n",
    "$$\n",
    "\n",
    "であるから，\n",
    "$$\n",
    "\\begin{align}\n",
    "\\frac{\\partial y}{\\partial x} &= \\frac{\\partial y}{\\partial t} \\frac{\\partial t}{\\partial x} \\\\ \\\\\n",
    "&= \\frac{\\exp(-x)}{\\{1 + \\exp(-x)\\}^{2}} \\\\ \\\\\n",
    "&= \\frac{\\exp(-x)}{1 + \\exp(-x)} \\frac{1}{1 + \\exp(-x)} \\\\ \\\\\n",
    "&= \\left(\\frac{1 + \\exp(-x)}{1 + \\exp(-x)} - \\frac{1}{1 + \\exp(-x)} \\right) \\frac{1}{1 + \\exp(-x)} \\\\ \\\\\n",
    "&= (1 - y) y\n",
    "\\end{align}\n",
    "$$"
   ]
  },
  {
   "cell_type": "code",
   "execution_count": 11,
   "id": "6b64cbe4",
   "metadata": {},
   "outputs": [],
   "source": [
    "class Sigmoid:\n",
    "    def __init__(self):\n",
    "        self.out = None\n",
    "        \n",
    "    def forward(self, x):\n",
    "        out = 1 / (1 + np.exp(-x))\n",
    "        self.out = out\n",
    "        \n",
    "        return out\n",
    "    \n",
    "    def backward(self, dout):\n",
    "        # 逆伝播の入力に，Sigmoidの偏微分をかける\n",
    "        dx = dout * (1.0 - self.out) * self.out\n",
    "        \n",
    "        return dx"
   ]
  },
  {
   "cell_type": "code",
   "execution_count": null,
   "id": "0c82ffec",
   "metadata": {},
   "outputs": [],
   "source": []
  }
 ],
 "metadata": {
  "kernelspec": {
   "display_name": "Python 3 (ipykernel)",
   "language": "python",
   "name": "python3"
  },
  "language_info": {
   "codemirror_mode": {
    "name": "ipython",
    "version": 3
   },
   "file_extension": ".py",
   "mimetype": "text/x-python",
   "name": "python",
   "nbconvert_exporter": "python",
   "pygments_lexer": "ipython3",
   "version": "3.9.6"
  }
 },
 "nbformat": 4,
 "nbformat_minor": 5
}
