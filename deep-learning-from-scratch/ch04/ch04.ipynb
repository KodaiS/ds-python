{
 "cells": [
  {
   "cell_type": "code",
   "execution_count": 1,
   "id": "811acab6",
   "metadata": {},
   "outputs": [],
   "source": [
    "import sys, os\n",
    "sys.path.append(os.pardir)\n",
    "import numpy as np\n",
    "from dataset.mnist import load_mnist\n",
    "import matplotlib.pyplot as plt\n",
    "%matplotlib inline"
   ]
  },
  {
   "cell_type": "markdown",
   "id": "dcf0748e",
   "metadata": {},
   "source": [
    "# 4.2 損失関数"
   ]
  },
  {
   "cell_type": "markdown",
   "id": "0a7379b3",
   "metadata": {},
   "source": [
    "### 2乗和誤差\n",
    "\n",
    "***\n",
    "\n",
    "$$\n",
    "E = \\frac{1}{2} \\sum_{k} (y_k - t_k)^2\n",
    "$$\n",
    "$ y_k $ : ニューラルネットワークの出力\n",
    "\n",
    "$ t_k $ : 教師データ (one-hot表現)\n",
    "\n",
    "***\n",
    "\n",
    "- 一つのデータに対する関数．データ全体に渡って和を取り，データ数で割る．\n",
    "\n",
    "- 先頭の1/2は微分したときに式を単純にするため．\n",
    "\n",
    "- 手書き文字認識(0-9)であれば，$ k = 0,  \\ldots, 9 $"
   ]
  },
  {
   "cell_type": "code",
   "execution_count": 2,
   "id": "407d2163",
   "metadata": {},
   "outputs": [],
   "source": [
    "def mean_squared_error(y, t):\n",
    "    return 0.5 * np.sum((y-t)**2)"
   ]
  },
  {
   "cell_type": "code",
   "execution_count": 3,
   "id": "c85c2b3a",
   "metadata": {},
   "outputs": [],
   "source": [
    "t = np.array([0, 0, 1, 0, 0, 0, 0, 0, 0, 0])\n",
    "y = np.array([0.1, 0.05, 0.6, 0.0, 0.05, 0.1, 0.0, 0.1, 0.0, 0.0])"
   ]
  },
  {
   "cell_type": "code",
   "execution_count": 4,
   "id": "bc7a4d9e",
   "metadata": {},
   "outputs": [
    {
     "data": {
      "text/plain": [
       "0.09750000000000003"
      ]
     },
     "execution_count": 4,
     "metadata": {},
     "output_type": "execute_result"
    }
   ],
   "source": [
    "mean_squared_error(y, t)"
   ]
  },
  {
   "cell_type": "markdown",
   "id": "330c4bf8",
   "metadata": {},
   "source": [
    "### 交差エントロピー誤差\n",
    "\n",
    "***\n",
    "\n",
    "$$\n",
    "E = - \\sum_{k} t_k \\log y_k\n",
    "$$\n",
    "$ y_k $ : ニューラルネットワークの出力\n",
    "\n",
    "$ t_k $ : 教師データ (one-hot表現)\n",
    "\n",
    "***\n",
    "\n",
    "- 一つのデータに対する関数．データ全体に渡って和を取り，データ数で割る．\n",
    "\n",
    "- logは自然対数．\n",
    "\n",
    "- 教師データがone-hot表現であれば，正解ラベルのインデックスの出力のみを計算することに等しい．\n",
    "\n",
    "- 正解ラベルのインデックスの出力が1に近いほど，エントロピー誤差は0に近づく\n",
    "\n",
    "- 手書き文字認識(0-9)であれば，$ k = 0,  \\ldots, 9 $"
   ]
  },
  {
   "cell_type": "code",
   "execution_count": 5,
   "id": "12ceac76",
   "metadata": {},
   "outputs": [],
   "source": [
    "x = np.arange(0, 1, 0.01)\n",
    "x = x[1:]"
   ]
  },
  {
   "cell_type": "code",
   "execution_count": 6,
   "id": "ef23e322",
   "metadata": {},
   "outputs": [
    {
     "data": {
      "text/plain": [
       "Text(0.5, 1.0, 'y = - log x')"
      ]
     },
     "execution_count": 6,
     "metadata": {},
     "output_type": "execute_result"
    },
    {
     "data": {
      "image/png": "[encoded data removed]",
      "text/plain": [
       "<Figure size 432x288 with 1 Axes>"
      ]
     },
     "metadata": {
      "needs_background": "light"
     },
     "output_type": "display_data"
    }
   ],
   "source": [
    "plt.plot(x, -np.log(x))\n",
    "plt.title('y = - log x')"
   ]
  },
  {
   "cell_type": "code",
   "execution_count": 7,
   "id": "071e78cb",
   "metadata": {},
   "outputs": [],
   "source": [
    "def cross_entropy_error(y, t):\n",
    "    delta = 1e-7 # logの真数に0が入らないように，微小量を足す\n",
    "    return -np.sum(t * np.log(y + delta))"
   ]
  },
  {
   "cell_type": "markdown",
   "id": "a51e711a",
   "metadata": {},
   "source": [
    "### ミニバッチ学習\n",
    "\n",
    "上記誤差関数を少し変形し，N個のデータの損失関数をまとめて計算する\n",
    "\n",
    "訓練データのすべてのデータの交差エントロピー誤差の和を求める\n",
    "\n",
    "***\n",
    "$$\n",
    "E = - \\frac{1}{N} \\sum_{n} \\sum_{k} t_{nk} \\log y_{nk}\n",
    "$$\n",
    "\n",
    "$ n = 0, \\ldots , N $ : データのインデックス\n",
    "\n",
    "$ k = 0, \\ldots , 9 $ : ラベルのインデックス\n",
    "***\n",
    "\n",
    "- 交差エントロピー誤差のデータ数 $ N $ 個の平均を取る．"
   ]
  },
  {
   "cell_type": "code",
   "execution_count": 8,
   "id": "206bdec6",
   "metadata": {},
   "outputs": [
    {
     "name": "stdout",
     "output_type": "stream",
     "text": [
      "(60000, 784)\n",
      "(60000,)\n"
     ]
    }
   ],
   "source": [
    "(x_train, t_train), (x_test, t_test) = load_mnist(normalize=True, flatten=True, one_hot_label=False)\n",
    "print(x_train.shape)\n",
    "print(t_train.shape)"
   ]
  },
  {
   "cell_type": "code",
   "execution_count": 9,
   "id": "442e5df9",
   "metadata": {},
   "outputs": [],
   "source": [
    "train_size = x_train.shape[0]\n",
    "batch_size = 10\n",
    "batch_mask = np.random.choice(train_size, batch_size)\n",
    "x_batch = x_train[batch_mask]\n",
    "t_batch = t_train[batch_mask]"
   ]
  },
  {
   "cell_type": "markdown",
   "id": "8f429831",
   "metadata": {},
   "source": [
    "### バッチ処理対応版 交差エントロピー誤差"
   ]
  },
  {
   "cell_type": "code",
   "execution_count": 21,
   "id": "7662145e",
   "metadata": {},
   "outputs": [],
   "source": [
    "# ===== 教師データが one-hot 表現の場合 =====\n",
    "def cross_entropy_error(y, t):\n",
    "    # データ数が1つの場合は2次元に直す\n",
    "    if y.ndim == 1:\n",
    "        t = t.reshape(1, t.size)\n",
    "        y = y.reshape(1, y.size)\n",
    "        \n",
    "    batch_size = y.shape[0]\n",
    "    # バッチ全体の和を取り，バッチサイズで割る\n",
    "    return -np.sum(t * np.log(y + 1e-7)) / batch_size\n",
    "\n",
    "# ===== 教師データがラベルとして与えられた場合 =====\n",
    "# def cross_entropy_error(y, t):\n",
    "#     # データ数が1つの場合は2次元に直す\n",
    "#     if y.ndim == 1:\n",
    "#         t = t.reshape(1, t.size)\n",
    "#         y = y.reshape(1, y.size)\n",
    "        \n",
    "#     batch_size = y.shape[0]\n",
    "#     # バッチ全体の和を取り，バッチサイズで割る\n",
    "#     return -np.sum(np.log(y[np.arange(batch_size), t] + 1e-7)) / batch_size"
   ]
  },
  {
   "cell_type": "markdown",
   "id": "0fa58a20",
   "metadata": {},
   "source": [
    "# 4.3 数値微分"
   ]
  },
  {
   "cell_type": "markdown",
   "id": "87427a1b",
   "metadata": {},
   "source": [
    "### 微分\n",
    "$$\n",
    "\\frac{df}{dx} = \\lim_{h \\to 0} \\frac{f(x + h) - f(x)}{h}\n",
    "$$\n",
    "***\n",
    "- x における傾きを表す"
   ]
  },
  {
   "cell_type": "markdown",
   "id": "666a3c4b",
   "metadata": {},
   "source": [
    "***\n",
    "\n",
    "### 数値微分の実装\n",
    "- 微小量として0.0001を使う(小さすぎると丸め誤差が発生する)\n",
    "- $x \\pm h$ で微分を計算する中心差分を使う"
   ]
  },
  {
   "cell_type": "code",
   "execution_count": 11,
   "id": "adae5e7c",
   "metadata": {},
   "outputs": [],
   "source": [
    "# 数値微分実装\n",
    "def numerical_diff(f, x):\n",
    "    h = 1e-4 # 0.0001\n",
    "    return (f(x+h) - f(x-h)) / (2*h)"
   ]
  },
  {
   "cell_type": "markdown",
   "id": "4c34dc53",
   "metadata": {},
   "source": [
    "次の関数の微分を計算してみる\n",
    "$$\n",
    "y = 0.01x^2 + 0.1x\n",
    "$$"
   ]
  },
  {
   "cell_type": "code",
   "execution_count": 12,
   "id": "532b923c",
   "metadata": {},
   "outputs": [],
   "source": [
    "def func_1(x):\n",
    "    return 0.01*x**2 + 0.1*x"
   ]
  },
  {
   "cell_type": "code",
   "execution_count": 13,
   "id": "33c32175",
   "metadata": {},
   "outputs": [
    {
     "data": {
      "text/plain": [
       "0.1999999999990898"
      ]
     },
     "execution_count": 13,
     "metadata": {},
     "output_type": "execute_result"
    }
   ],
   "source": [
    "numerical_diff(func_1, 5)"
   ]
  },
  {
   "cell_type": "code",
   "execution_count": 14,
   "id": "f786d526",
   "metadata": {},
   "outputs": [
    {
     "data": {
      "text/plain": [
       "0.2999999999986347"
      ]
     },
     "execution_count": 14,
     "metadata": {},
     "output_type": "execute_result"
    }
   ],
   "source": [
    "numerical_diff(func_1, 10)"
   ]
  },
  {
   "cell_type": "markdown",
   "id": "da60dfea",
   "metadata": {},
   "source": [
    "***\n",
    "$ y = 0.01x^2 + 0.1x $ と，$ x = 5, 10 $ における接線の可視化"
   ]
  },
  {
   "cell_type": "code",
   "execution_count": 15,
   "id": "db96706e",
   "metadata": {},
   "outputs": [
    {
     "name": "stdout",
     "output_type": "stream",
     "text": [
      "0.1999999999990898\n",
      "0.2999999999986347\n"
     ]
    },
    {
     "data": {
      "text/plain": [
       "Text(0, 0.5, 'y')"
      ]
     },
     "execution_count": 15,
     "metadata": {},
     "output_type": "execute_result"
    },
    {
     "data": {
      "image/png": "[encoded data removed]",
      "text/plain": [
       "<Figure size 576x288 with 2 Axes>"
      ]
     },
     "metadata": {
      "needs_background": "light"
     },
     "output_type": "display_data"
    }
   ],
   "source": [
    "def tangent_line(f, x):\n",
    "    d = numerical_diff(f, x)\n",
    "    print(d)\n",
    "    y = f(x) - d*x\n",
    "    return lambda t: d*t + y\n",
    "     \n",
    "x = np.arange(0.0, 20.0, 0.1)\n",
    "y = func_1(x)\n",
    "\n",
    "fig, axes = plt.subplots(1, 2, figsize=(8, 4), tight_layout=True)\n",
    "\n",
    "tf = tangent_line(func_1, 5)\n",
    "y2 = tf(x)\n",
    "axes[0].plot(x, y)\n",
    "axes[0].plot(x, y2)\n",
    "axes[0].set_xlabel('x')\n",
    "axes[0].set_ylabel('y')\n",
    "\n",
    "tf = tangent_line(func_1, 10)\n",
    "y2 = tf(x)\n",
    "axes[1].plot(x, y)\n",
    "axes[1].plot(x, y2)\n",
    "axes[1].set_xlabel('x')\n",
    "axes[1].set_ylabel('y')"
   ]
  },
  {
   "cell_type": "markdown",
   "id": "02e5773e",
   "metadata": {},
   "source": [
    "### 偏微分\n",
    "変数が複数ある場合に，一つ一つの変数に着目して微分を求める\n",
    "\n",
    "$$\n",
    "f(x_0, x_1) = {x_0}^2 + {x_1}^2\n",
    "$$\n",
    "\n",
    "上式の $x_0$ に関する偏微分は，$x_1$ を定数として考えて次のように計算する\n",
    "\n",
    "$$\n",
    "\\frac{\\partial f}{\\partial x_0} = \\frac{f(x_0 + h, x_1) - f(x_0, x_1)}{h}\n",
    "$$\n",
    "\n",
    "***"
   ]
  },
  {
   "cell_type": "markdown",
   "id": "cbec652f",
   "metadata": {},
   "source": [
    "### 勾配\n",
    "全ての変数に関する偏微分をまとめてベクトルにしたもの\n",
    "\n",
    "$ f(x_0, x_1) = {x_0}^2 + {x_1}^2 $ の勾配は\n",
    "\n",
    "$$\n",
    "(\\frac{\\partial f}{\\partial x_0}, \\frac{\\partial f}{\\partial x_1})\n",
    "$$\n",
    "\n",
    "***"
   ]
  },
  {
   "cell_type": "code",
   "execution_count": 16,
   "id": "45f1fac8",
   "metadata": {},
   "outputs": [],
   "source": [
    "def func_2(x):\n",
    "    \"\"\"\n",
    "    引数はnumpy配列が入力される想定\n",
    "    \"\"\"\n",
    "    return np.sum(x**2)"
   ]
  },
  {
   "cell_type": "markdown",
   "id": "3c8f3c83",
   "metadata": {},
   "source": [
    "勾配を返す関数numerical_gradientを実装"
   ]
  },
  {
   "cell_type": "code",
   "execution_count": 55,
   "id": "659505b2",
   "metadata": {},
   "outputs": [],
   "source": [
    "def numerical_gradient(f, x):\n",
    "    \"\"\"\n",
    "    f: 勾配を計算する関数\n",
    "    x: 勾配を計算する変数の値 (numpy配列)\n",
    "    \"\"\"\n",
    "    h = 1e-4 # 0.0001\n",
    "    grad = np.zeros_like(x) # xと同じ形状の配列を生成\n",
    "    \n",
    "    for idx in range(x.size):\n",
    "        tmp_val = x[idx]\n",
    "        \n",
    "        # f(x+h)\n",
    "        x[idx] = tmp_val + h\n",
    "        fxh1 = f(x)\n",
    "        \n",
    "        # f(x-h)\n",
    "        x[idx] = tmp_val - h\n",
    "        fxh2 = f(x)\n",
    "        \n",
    "        grad[idx] = (fxh1 - fxh2) / (2*h)\n",
    "        x[idx] = tmp_val # 値を元に戻す\n",
    "        \n",
    "    return grad"
   ]
  },
  {
   "cell_type": "code",
   "execution_count": 56,
   "id": "9abc5ca3",
   "metadata": {},
   "outputs": [
    {
     "data": {
      "text/plain": [
       "array([6., 8.])"
      ]
     },
     "execution_count": 56,
     "metadata": {},
     "output_type": "execute_result"
    }
   ],
   "source": [
    "numerical_gradient(func_2, np.array([3., 4.]))"
   ]
  },
  {
   "cell_type": "code",
   "execution_count": 57,
   "id": "9acfdcc8",
   "metadata": {},
   "outputs": [
    {
     "data": {
      "text/plain": [
       "array([0., 4.])"
      ]
     },
     "execution_count": 57,
     "metadata": {},
     "output_type": "execute_result"
    }
   ],
   "source": [
    "numerical_gradient(func_2, np.array([0., 2.]))"
   ]
  },
  {
   "cell_type": "code",
   "execution_count": 59,
   "id": "2ca0d756",
   "metadata": {},
   "outputs": [
    {
     "data": {
      "text/plain": [
       "array([6., 0.])"
      ]
     },
     "execution_count": 59,
     "metadata": {},
     "output_type": "execute_result"
    }
   ],
   "source": [
    "numerical_gradient(func_2, np.array([3., 0.]))"
   ]
  },
  {
   "cell_type": "code",
   "execution_count": null,
   "id": "53978fe1",
   "metadata": {},
   "outputs": [],
   "source": []
  }
 ],
 "metadata": {
  "kernelspec": {
   "display_name": "Python 3 (ipykernel)",
   "language": "python",
   "name": "python3"
  },
  "language_info": {
   "codemirror_mode": {
    "name": "ipython",
    "version": 3
   },
   "file_extension": ".py",
   "mimetype": "text/x-python",
   "name": "python",
   "nbconvert_exporter": "python",
   "pygments_lexer": "ipython3",
   "version": "3.9.6"
  }
 },
 "nbformat": 4,
 "nbformat_minor": 5
}
