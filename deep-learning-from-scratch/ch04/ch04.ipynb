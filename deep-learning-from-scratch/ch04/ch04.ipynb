{
 "cells": [
  {
   "cell_type": "code",
   "execution_count": 48,
   "id": "811acab6",
   "metadata": {},
   "outputs": [],
   "source": [
    "import sys, os\n",
    "sys.path.append(os.pardir)\n",
    "import numpy as np\n",
    "from dataset.mnist import load_mnist\n",
    "import matplotlib.pyplot as plt\n",
    "%matplotlib inline"
   ]
  },
  {
   "cell_type": "markdown",
   "id": "dcf0748e",
   "metadata": {},
   "source": [
    "# 4.2 損失関数"
   ]
  },
  {
   "cell_type": "markdown",
   "id": "0a7379b3",
   "metadata": {},
   "source": [
    "### 2乗和誤差\n",
    "\n",
    "***\n",
    "\n",
    "$$\n",
    "E = \\frac{1}{2} \\sum_{k} (y_k - t_k)^2\n",
    "$$\n",
    "$ y_k $ : ニューラルネットワークの出力\n",
    "\n",
    "$ t_k $ : 教師データ (one-hot表現)\n",
    "\n",
    "***\n",
    "\n",
    "- 一つのデータに対する関数．データ全体に渡って和を取り，データ数で割る．\n",
    "\n",
    "- 先頭の1/2は微分したときに式を単純にするため．\n",
    "\n",
    "- 手書き文字認識(0-9)であれば，$ k = 0,  \\ldots, 9 $"
   ]
  },
  {
   "cell_type": "code",
   "execution_count": 18,
   "id": "407d2163",
   "metadata": {},
   "outputs": [],
   "source": [
    "def mean_squared_error(y, t):\n",
    "    return 0.5 * np.sum((y-t)**2)"
   ]
  },
  {
   "cell_type": "code",
   "execution_count": 19,
   "id": "c85c2b3a",
   "metadata": {},
   "outputs": [],
   "source": [
    "t = np.array([0, 0, 1, 0, 0, 0, 0, 0, 0, 0])\n",
    "y = np.array([0.1, 0.05, 0.6, 0.0, 0.05, 0.1, 0.0, 0.1, 0.0, 0.0])"
   ]
  },
  {
   "cell_type": "code",
   "execution_count": 20,
   "id": "bc7a4d9e",
   "metadata": {},
   "outputs": [
    {
     "data": {
      "text/plain": [
       "0.09750000000000003"
      ]
     },
     "execution_count": 20,
     "metadata": {},
     "output_type": "execute_result"
    }
   ],
   "source": [
    "mean_squared_error(y, t)"
   ]
  },
  {
   "cell_type": "markdown",
   "id": "330c4bf8",
   "metadata": {},
   "source": [
    "### 交差エントロピー誤差\n",
    "\n",
    "***\n",
    "\n",
    "$$\n",
    "E = - \\sum_{k} t_k \\log y_k\n",
    "$$\n",
    "$ y_k $ : ニューラルネットワークの出力\n",
    "\n",
    "$ t_k $ : 教師データ (one-hot表現)\n",
    "\n",
    "***\n",
    "\n",
    "- 一つのデータに対する関数．データ全体に渡って和を取り，データ数で割る．\n",
    "\n",
    "- logは自然対数．\n",
    "\n",
    "- 教師データがone-hot表現であれば，正解ラベルのインデックスの出力のみを計算することに等しい．\n",
    "\n",
    "- 正解ラベルのインデックスの出力が1に近いほど，エントロピー誤差は0に近づく\n",
    "\n",
    "- 手書き文字認識(0-9)であれば，$ k = 0,  \\ldots, 9 $"
   ]
  },
  {
   "cell_type": "code",
   "execution_count": 44,
   "id": "12ceac76",
   "metadata": {},
   "outputs": [],
   "source": [
    "x = np.arange(0, 1, 0.01)\n",
    "x = x[1:]"
   ]
  },
  {
   "cell_type": "code",
   "execution_count": 45,
   "id": "ef23e322",
   "metadata": {},
   "outputs": [
    {
     "data": {
      "text/plain": [
       "Text(0.5, 1.0, 'y = - log x')"
      ]
     },
     "execution_count": 45,
     "metadata": {},
     "output_type": "execute_result"
    },
    {
     "data": {
      "image/png": "[encoded data removed]",
      "text/plain": [
       "<Figure size 432x288 with 1 Axes>"
      ]
     },
     "metadata": {
      "needs_background": "light"
     },
     "output_type": "display_data"
    }
   ],
   "source": [
    "plt.plot(x, -np.log(x))\n",
    "plt.title('y = - log x')"
   ]
  },
  {
   "cell_type": "code",
   "execution_count": 46,
   "id": "071e78cb",
   "metadata": {},
   "outputs": [],
   "source": [
    "def cross_entropy_error(y, t):\n",
    "    delta = 1e-7 # logの真数に0が入らないように，微小量を足す\n",
    "    return -np.sum(t * np.log(y + delta))"
   ]
  },
  {
   "cell_type": "markdown",
   "id": "a51e711a",
   "metadata": {},
   "source": [
    "### ミニバッチ学習\n",
    "\n",
    "訓練データのすべてのデータの交差エントロピー誤差の和を求める\n",
    "\n",
    "***\n",
    "$$\n",
    "E = - \\frac{1}{N} \\sum_{n} \\sum_{k} t_{nk} \\log y_{nk}\n",
    "$$\n",
    "\n",
    "$ n = 0, \\ldots , N $ : データのインデックス\n",
    "\n",
    "$ k = 0, \\ldots , 9 $ : ラベルのインデックス\n",
    "***\n",
    "\n",
    "- 交差エントロピー誤差のデータ数 $ N $ 個の平均を取る．"
   ]
  },
  {
   "cell_type": "code",
   "execution_count": 64,
   "id": "206bdec6",
   "metadata": {},
   "outputs": [
    {
     "name": "stdout",
     "output_type": "stream",
     "text": [
      "(60000, 784)\n",
      "(60000,)\n"
     ]
    }
   ],
   "source": [
    "(x_train, t_train), (x_test, t_test) = load_mnist(normalize=True, flatten=True, one_hot_label=False)\n",
    "print(x_train.shape)\n",
    "print(t_train.shape)"
   ]
  },
  {
   "cell_type": "code",
   "execution_count": 50,
   "id": "442e5df9",
   "metadata": {},
   "outputs": [],
   "source": [
    "train_size = x_train.shape[0]\n",
    "batch_size = 10\n",
    "batch_mask = np.random.choice(train_size, batch_size)\n",
    "x_batch = x_train[batch_mask]\n",
    "t_batch = t_train[batch_mask]"
   ]
  },
  {
   "cell_type": "markdown",
   "id": "8f429831",
   "metadata": {},
   "source": [
    "### バッチ処理対応版 交差エントロピー誤差"
   ]
  },
  {
   "cell_type": "code",
   "execution_count": 60,
   "id": "7662145e",
   "metadata": {},
   "outputs": [],
   "source": [
    "# ===== 教師データが one-hot 表現の場合 =====\n",
    "def cross_entropy_error(y, t):\n",
    "    # データ数が1つの場合は2次元に直す\n",
    "    if y.ndim == 1:\n",
    "        t = t.reshape(1, t.size)\n",
    "        y = y.reshape(1, y.size)\n",
    "        \n",
    "    batch_size = y.shape[0]\n",
    "    # バッチ全体の和を取り，バッチサイズで割る\n",
    "    return -np.sum(t * np.log(y + 1e-7)) / batch_size\n",
    "\n",
    "# ===== 教師データがラベルとして与えられた場合 =====\n",
    "def cross_entropy_error(y, t):\n",
    "    # データ数が1つの場合は2次元に直す\n",
    "    if y.ndim == 1:\n",
    "        t = t.reshape(1, t.size)\n",
    "        y = y.reshape(1, y.size)\n",
    "        \n",
    "    batch_size = y.shape[0]\n",
    "    # バッチ全体の和を取り，バッチサイズで割る\n",
    "    return -np.sum(np.log(y[np.arange(batch_size), t] + 1e-7)) / batch_size"
   ]
  },
  {
   "cell_type": "code",
   "execution_count": null,
   "id": "6933291d",
   "metadata": {},
   "outputs": [],
   "source": []
  }
 ],
 "metadata": {
  "kernelspec": {
   "display_name": "Python 3 (ipykernel)",
   "language": "python",
   "name": "python3"
  },
  "language_info": {
   "codemirror_mode": {
    "name": "ipython",
    "version": 3
   },
   "file_extension": ".py",
   "mimetype": "text/x-python",
   "name": "python",
   "nbconvert_exporter": "python",
   "pygments_lexer": "ipython3",
   "version": "3.9.6"
  }
 },
 "nbformat": 4,
 "nbformat_minor": 5
}
