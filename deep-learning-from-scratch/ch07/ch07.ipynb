{
 "cells": [
  {
   "cell_type": "code",
   "execution_count": 100,
   "id": "ca9bd638",
   "metadata": {},
   "outputs": [],
   "source": [
    "import sys, os\n",
    "sys.path.append(os.pardir)\n",
    "from common.util import im2col, col2im\n",
    "import numpy as np\n",
    "\n",
    "%matplotlib inline"
   ]
  },
  {
   "cell_type": "markdown",
   "id": "66f032a4",
   "metadata": {},
   "source": [
    "# 7.1 畳み込みニューラルネットワーク\n",
    "- 主に画像認識で用いられる\n",
    "- Affineレイヤは全結合層とも呼ばれ，データの形状を無視．画像データ（3D）も1Dのデータにする．\n",
    "- Convolutionレイヤ（畳み込み層）と Poolingレイヤ（プーリング層）が入る\n",
    "- 畳み込み層では形状を維持できる"
   ]
  },
  {
   "cell_type": "markdown",
   "id": "f6723ae4",
   "metadata": {},
   "source": [
    "# 7.2 畳み込み層\n",
    "\n",
    "### 畳み込み演算\n",
    "- 入力データ（入力特徴マップ）に対して，フィルターを適用する（積和演算）\n",
    "- バイアスは出力データ全てに対して同じ値が加算される\n",
    "- 4x4の入力データに対し，3x3のフィルターをストライド1で適用する場合，出力データは2x2になる\n",
    "\n",
    "### パディング\n",
    "- 入力データの周囲に固定のデータを埋める\n",
    "- 主に，出力データのサイズを調整するために使われる\n",
    "- 4x4の入力データに対し，幅1のパディングを適用し，3x3のフィルターをストライド1で適用する場合，出力データは4x4になる\n",
    "\n",
    "### ストライド\n",
    "- フィルターを動かす幅\n",
    "\n",
    "### 出力データのサイズの計算\n",
    "- 入力サイズ: (H, W)\n",
    "- フィルターサイズ: (FH, FW)\n",
    "- 出力サイズ: (OH, OW)\n",
    "- パディング: P\n",
    "- ストライド: S\n",
    "$$\n",
    "OH = \\frac{H + 2P - FH}{S} +1 \\\\\\\\\n",
    "OW = \\frac{W + 2P - FW}{S} +1\n",
    "$$\n",
    "\n",
    "### 3次元データの畳み込み演算\n",
    "- 縦，横，チャンネル方向がある画像データなどの例を考える\n",
    "- 入力データとフィルターのチャンネル数を揃える\n",
    "- チャンネルごとの畳み込み演算結果を加算して一つの出力を得る\n",
    "- データ，フィルターを(channel, height, width)の直方体で考えると，(C, H, W)の入力データと(C, FH, FW)のフィルターで(1, OH, OW)の出力データが得られる\n",
    "- フィルターをFN個使うと，入力データ(C, H, W)，フィルター(FN, C, FH, FW), 出力データ(FN, OH, OW)になる．\n",
    "- バイアスは出力データのチャンネルごとに一つの値が使われるため，(FN, 1, 1)の形状になる\n",
    "\n",
    "### 畳み込み演算のバッチ処理\n",
    "- 入力データの形状が(N, C, H, W)，出力データの形状が(N, FN, OH, OW)になる\n",
    "- フィルター，バイアスはN個のデータに対して同じものが使われるため変わらない"
   ]
  },
  {
   "cell_type": "markdown",
   "id": "738167ad",
   "metadata": {},
   "source": [
    "# 7.3 プーリング層\n",
    "- 縦・横方向の空間を小さくする演算\n",
    "- 特定領域の最大値を取るMaxプーリング，平均を取るAverageプーリングなどがある\n",
    "- 最大値や平均を取るだけなので，学習すべきパラメータはない\n",
    "- チャンネルごとに計算するので，チャンネル数は変化しない\n",
    "- 微小な変化にロバスト"
   ]
  },
  {
   "cell_type": "markdown",
   "id": "10745a08",
   "metadata": {},
   "source": [
    "# 7.4 Convolution / Pooling レイヤの実装"
   ]
  },
  {
   "cell_type": "markdown",
   "id": "1a781936",
   "metadata": {},
   "source": [
    "### im2col の挙動\n",
    "- im2col(input_data, filter_h, filter_w, stride=1, pad=0)\n",
    "- フィルターサイズ，ストライド，パディングを考慮して入力データを2次元に展開する"
   ]
  },
  {
   "cell_type": "code",
   "execution_count": 82,
   "id": "dc132585",
   "metadata": {},
   "outputs": [
    {
     "name": "stdout",
     "output_type": "stream",
     "text": [
      "===フィルターに対応する部分===\n",
      "[  0   1   2   3   4   7   8   9  10  11  14  15  16  17  18  21  22  23\n",
      "  24  25  28  29  30  31  32  49  50  51  52  53  56  57  58  59  60  63\n",
      "  64  65  66  67  70  71  72  73  74  77  78  79  80  81  98  99 100 101\n",
      " 102 105 106 107 108 109 112 113 114 115 116 119 120 121 122 123 126 127\n",
      " 128 129 130]\n",
      "\n",
      "===im2col展開後の1行目===\n",
      "[  0.   1.   2.   3.   4.   7.   8.   9.  10.  11.  14.  15.  16.  17.\n",
      "  18.  21.  22.  23.  24.  25.  28.  29.  30.  31.  32.  49.  50.  51.\n",
      "  52.  53.  56.  57.  58.  59.  60.  63.  64.  65.  66.  67.  70.  71.\n",
      "  72.  73.  74.  77.  78.  79.  80.  81.  98.  99. 100. 101. 102. 105.\n",
      " 106. 107. 108. 109. 112. 113. 114. 115. 116. 119. 120. 121. 122. 123.\n",
      " 126. 127. 128. 129. 130.]\n",
      "\n",
      "===形状の変化===\n",
      "元データ:  (10, 3, 7, 7)\n",
      "im2colデータ:  (90, 75)\n",
      "\n"
     ]
    }
   ],
   "source": [
    "# インデックスを値に持つ配列を4次元に変換\n",
    "x3 = np.arange(10*3*7*7).reshape(10, 3, 7, 7)\n",
    "# im2colで展開\n",
    "col3 = im2col(x3, 5, 5, stride=1, pad=0)\n",
    "\n",
    "print('===フィルターに対応する部分===')\n",
    "print(x3[0, :, :5, :5].flatten(), end='\\n\\n')\n",
    "\n",
    "print('===im2col展開後の1行目===')\n",
    "print(col3[0], end='\\n\\n')\n",
    "\n",
    "print('===形状の変化===')\n",
    "print('元データ: ', x3.shape)\n",
    "print('im2colデータ: ', col3.shape, end='\\n\\n')"
   ]
  },
  {
   "cell_type": "code",
   "execution_count": 83,
   "id": "e11b90c5",
   "metadata": {},
   "outputs": [
    {
     "name": "stdout",
     "output_type": "stream",
     "text": [
      "===1データ目の最後の出力に対応する部分===\n",
      "[ 16  17  18  19  20  23  24  25  26  27  30  31  32  33  34  37  38  39\n",
      "  40  41  44  45  46  47  48  65  66  67  68  69  72  73  74  75  76  79\n",
      "  80  81  82  83  86  87  88  89  90  93  94  95  96  97 114 115 116 117\n",
      " 118 121 122 123 124 125 128 129 130 131 132 135 136 137 138 139 142 143\n",
      " 144 145 146]\n",
      "===展開後の9行目===\n",
      "[ 16.  17.  18.  19.  20.  23.  24.  25.  26.  27.  30.  31.  32.  33.\n",
      "  34.  37.  38.  39.  40.  41.  44.  45.  46.  47.  48.  65.  66.  67.\n",
      "  68.  69.  72.  73.  74.  75.  76.  79.  80.  81.  82.  83.  86.  87.\n",
      "  88.  89.  90.  93.  94.  95.  96.  97. 114. 115. 116. 117. 118. 121.\n",
      " 122. 123. 124. 125. 128. 129. 130. 131. 132. 135. 136. 137. 138. 139.\n",
      " 142. 143. 144. 145. 146.]\n",
      "\n",
      "===2データ目の最初の出力に対応する部分===\n",
      "[147 148 149 150 151 154 155 156 157 158 161 162 163 164 165 168 169 170\n",
      " 171 172 175 176 177 178 179 196 197 198 199 200 203 204 205 206 207 210\n",
      " 211 212 213 214 217 218 219 220 221 224 225 226 227 228 245 246 247 248\n",
      " 249 252 253 254 255 256 259 260 261 262 263 266 267 268 269 270 273 274\n",
      " 275 276 277]\n",
      "===展開後の10行目===\n",
      "[147. 148. 149. 150. 151. 154. 155. 156. 157. 158. 161. 162. 163. 164.\n",
      " 165. 168. 169. 170. 171. 172. 175. 176. 177. 178. 179. 196. 197. 198.\n",
      " 199. 200. 203. 204. 205. 206. 207. 210. 211. 212. 213. 214. 217. 218.\n",
      " 219. 220. 221. 224. 225. 226. 227. 228. 245. 246. 247. 248. 249. 252.\n",
      " 253. 254. 255. 256. 259. 260. 261. 262. 263. 266. 267. 268. 269. 270.\n",
      " 273. 274. 275. 276. 277.]\n"
     ]
    }
   ],
   "source": [
    "# 1データ目，2データ目，，，の順に展開される\n",
    "print('===1データ目の最後の出力に対応する部分===')\n",
    "print(x3[0, :, -5:, -5:].flatten())\n",
    "print('===展開後の9行目===')\n",
    "print(col3[8], end='\\n\\n')\n",
    "print('===2データ目の最初の出力に対応する部分===')\n",
    "print(x3[1, :, :5, :5].flatten())\n",
    "print('===展開後の10行目===')\n",
    "print(col3[9])"
   ]
  },
  {
   "cell_type": "code",
   "execution_count": 85,
   "id": "fdbf0591",
   "metadata": {},
   "outputs": [
    {
     "name": "stdout",
     "output_type": "stream",
     "text": [
      "===形状の変化===\n",
      "元のフィルター: (1, 3, 5, 5)\n",
      "展開後のフィルター: (75, 1)\n"
     ]
    }
   ],
   "source": [
    "# フィルター個数は1．今回はわかりやすく要素は全て1\n",
    "W = np.ones((1, 3, 5, 5))\n",
    "col_w = W.reshape(W.shape[0], -1).T\n",
    "print('===形状の変化===')\n",
    "print('元のフィルター:', W.shape)\n",
    "print('展開後のフィルター:', col_w.shape)"
   ]
  },
  {
   "cell_type": "code",
   "execution_count": 77,
   "id": "8a9bab32",
   "metadata": {},
   "outputs": [
    {
     "name": "stdout",
     "output_type": "stream",
     "text": [
      "演算後: (90, 1)\n",
      "[[4875.]\n",
      " [4950.]\n",
      " [5025.]\n",
      " [5400.]\n",
      " [5475.]\n",
      " [5550.]\n",
      " [5925.]\n",
      " [6000.]\n",
      " [6075.]]\n",
      "\n",
      "reshape後: (10, 3, 3, 1)\n",
      "[[[4875.]\n",
      "  [4950.]\n",
      "  [5025.]]\n",
      "\n",
      " [[5400.]\n",
      "  [5475.]\n",
      "  [5550.]]\n",
      "\n",
      " [[5925.]\n",
      "  [6000.]\n",
      "  [6075.]]]\n",
      "\n",
      "transpose後: (10, 1, 3, 3)\n",
      "[[[4875. 4950. 5025.]\n",
      "  [5400. 5475. 5550.]\n",
      "  [5925. 6000. 6075.]]]\n",
      "\n"
     ]
    }
   ],
   "source": [
    "# 出力の形状\n",
    "out_h = int(1 + (7 + 2*0 - 5) / 1)\n",
    "out_w = int(1 + (7 + 2*0 - 5) / 1)\n",
    "\n",
    "out = np.dot(col3, col_w)\n",
    "print('演算後:', out.shape)\n",
    "print(out[:9], end='\\n\\n')\n",
    "\n",
    "out = out.reshape(10, out_h, out_w, -1)\n",
    "print('reshape後:', out.shape)\n",
    "print(out[0], end='\\n\\n')\n",
    "\n",
    "out = out.transpose(0, 3, 1, 2)\n",
    "print('transpose後:', out.shape)\n",
    "print(out[0], end='\\n\\n')"
   ]
  },
  {
   "cell_type": "markdown",
   "id": "ba9a3eae",
   "metadata": {},
   "source": [
    "### backward"
   ]
  },
  {
   "cell_type": "code",
   "execution_count": 105,
   "id": "fac8db70",
   "metadata": {},
   "outputs": [
    {
     "name": "stdout",
     "output_type": "stream",
     "text": [
      "xの形状:  (10, 3, 5, 5)\n",
      "im2col後の形状:  (160, 12)\n",
      "\n",
      "フィルターの形状:  (3, 3, 2, 2)\n",
      "フィルター展開，転置後の形状:  (12, 3)\n",
      "\n",
      "バイアスの形状:  (3,)\n",
      "畳み込み演算後の形状:  (10, 3, 4, 4)\n",
      "\n",
      "doutの形状: (N, FN, OH, OW) = (10, 3, 4, 4)\n",
      "一つ目のデータのdout\n",
      "[[[ 0  1  2  3]\n",
      "  [ 4  5  6  7]\n",
      "  [ 8  9 10 11]\n",
      "  [12 13 14 15]]\n",
      "\n",
      " [[16 17 18 19]\n",
      "  [20 21 22 23]\n",
      "  [24 25 26 27]\n",
      "  [28 29 30 31]]\n",
      "\n",
      " [[32 33 34 35]\n",
      "  [36 37 38 39]\n",
      "  [40 41 42 43]\n",
      "  [44 45 46 47]]]\n"
     ]
    }
   ],
   "source": [
    "# forwardの入力は(10, 3, 5, 5)としておく\n",
    "x = np.arange(10*3*5*5).reshape(10, 3, 5, 5)\n",
    "col = im2col(x, 2, 2, stride=1, pad=0)\n",
    "\n",
    "print('xの形状: ', x.shape)\n",
    "print('im2col後の形状: ', col.shape, end='\\n\\n')\n",
    "\n",
    "# フィルターは(3, 3, 2, 2)としておく\n",
    "W = np.ones((3, 3, 2, 2))\n",
    "col_w = W.reshape(W.shape[0], -1).T\n",
    "\n",
    "print('フィルターの形状: ', W.shape)\n",
    "print('フィルター展開，転置後の形状: ', col_w.shape, end='\\n\\n')\n",
    "\n",
    "# バイアスは(3, 1, 1)としておく\n",
    "b = np.arange(3)\n",
    "print('バイアスの形状: ', b.shape)\n",
    "\n",
    "# 出力の形状\n",
    "OH = int(1 + (5 + 2*0 - 2)/1)\n",
    "OW = int(1 + (5 + 2*0 - 2)/1)\n",
    "\n",
    "print('畳み込み演算後の形状: ', (np.dot(col, col_w) + b).reshape(10, OH, OW, -1).transpose(0, 3, 1, 2).shape, end='\\n\\n')\n",
    "\n",
    "# forwardの出力が(10x3x4x4)とする=backwardのdoutも同じ\n",
    "dout = np.arange(10*3*4*4).reshape(10, 3, 4, 4)\n",
    "print('doutの形状: (N, FN, OH, OW) =', dout.shape)\n",
    "print('一つ目のデータのdout')\n",
    "print(dout[0])"
   ]
  },
  {
   "cell_type": "code",
   "execution_count": 103,
   "id": "b8d5cb9a",
   "metadata": {},
   "outputs": [
    {
     "name": "stdout",
     "output_type": "stream",
     "text": [
      "transpose後: (N, OH, OW, FN) = (10, 4, 4, 3)\n",
      "\n",
      "一つ目のデータのtranspose後のdout\n",
      "[[[ 0 16 32]\n",
      "  [ 1 17 33]\n",
      "  [ 2 18 34]\n",
      "  [ 3 19 35]]\n",
      "\n",
      " [[ 4 20 36]\n",
      "  [ 5 21 37]\n",
      "  [ 6 22 38]\n",
      "  [ 7 23 39]]\n",
      "\n",
      " [[ 8 24 40]\n",
      "  [ 9 25 41]\n",
      "  [10 26 42]\n",
      "  [11 27 43]]\n",
      "\n",
      " [[12 28 44]\n",
      "  [13 29 45]\n",
      "  [14 30 46]\n",
      "  [15 31 47]]]\n",
      "\n",
      "reshape後: ((N x OH x OW), FN) = (160, 3)\n",
      "\n",
      "一つ目のデータのreshape後のdout\n",
      "[  0   1   2   3   4   5   6   7   8   9  10  11  12  13  14  15  48  49\n",
      "  50  51  52  53  54  55  56  57  58  59  60  61  62  63  96  97  98  99\n",
      " 100 101 102 103 104 105 106 107 108 109 110 111 144 145 146 147 148 149\n",
      " 150 151 152 153 154 155 156 157 158 159 192 193 194 195 196 197 198 199\n",
      " 200 201 202 203 204 205 206 207 240 241 242 243 244 245 246 247 248 249\n",
      " 250 251 252 253 254 255 288 289 290 291 292 293 294 295 296 297 298 299\n",
      " 300 301 302 303 336 337 338 339 340 341 342 343 344 345 346 347 348 349\n",
      " 350 351 384 385 386 387 388 389 390 391 392 393 394 395 396 397 398 399\n",
      " 432 433 434 435 436 437 438 439 440 441 442 443 444 445 446 447]\n",
      "\n"
     ]
    }
   ],
   "source": [
    "dout = dout.transpose(0, 2, 3, 1)\n",
    "print('transpose後: (N, OH, OW, FN) =', dout.shape, end='\\n\\n')\n",
    "print('一つ目のデータのtranspose後のdout')\n",
    "print(dout[0], end='\\n\\n')\n",
    "\n",
    "# ((NxOHxOW), FN)にreshape\n",
    "dout = dout.reshape(-1, dout.shape[-1])\n",
    "print('reshape後: ((N x OH x OW), FN) =', dout.shape, end='\\n\\n')\n",
    "print('一つ目のデータのreshape後のdout')\n",
    "print(dout[:, 0], end='\\n\\n')"
   ]
  },
  {
   "cell_type": "code",
   "execution_count": 104,
   "id": "b66a69d6",
   "metadata": {},
   "outputs": [
    {
     "name": "stdout",
     "output_type": "stream",
     "text": [
      "dbの形状: (3,)\n",
      "\n",
      "np.dot(col.T, dout)の形状: (12, 3)\n",
      "dWの形状: (3, 3, 2, 2)\n",
      "\n",
      "np.dot(dout, col_w.T)の形状: (160, 12)\n",
      "dxの形状: (10, 3, 5, 5)\n",
      "\n"
     ]
    }
   ],
   "source": [
    "# バイアスの勾配．バイアスはチャンネルごとの計算 = 列方向の和をとる\n",
    "db = np.sum(dout, axis=0)\n",
    "print('dbの形状:', db.shape, end='\\n\\n')\n",
    "\n",
    "\n",
    "# フィルターの勾配．x^Tとの積を取ってフィルターの形状に戻す\n",
    "dW = np.dot(col.T, dout)\n",
    "print('np.dot(col.T, dout)の形状:', dW.shape)\n",
    "dW = dW.transpose(1, 0).reshape(3, 3, 2, 2)\n",
    "print('dWの形状:', dW.shape, end='\\n\\n')\n",
    "\n",
    "\n",
    "# 入力の勾配．Wとの積を取って，元の形状に戻す\n",
    "dcol = np.dot(dout, col_w.T)\n",
    "print('np.dot(dout, col_w.T)の形状:', dcol.shape)\n",
    "dx = col2im(dcol, x.shape, 2, 2, stride=1, pad=0)\n",
    "print('dxの形状:', dx.shape, end='\\n\\n')"
   ]
  },
  {
   "cell_type": "markdown",
   "id": "78813578",
   "metadata": {},
   "source": [
    "### 実装\n",
    "- W: フィルター．4次元(FN, C, FH, FW)\n",
    "- b: バイアス\n",
    "- x: 入力．4次元(N, C, H, W)\n",
    "- backward は 以下Affineレイヤを参考\n",
    "\n",
    "$$\n",
    "\\frac{\\partial L}{\\partial W} = \\boldsymbol{x}^T \\frac{\\partial L}{\\partial \\boldsymbol{y}}\n",
    "\\\\\\\\\n",
    "\\frac{\\partial L}{\\partial \\boldsymbol{x}} = \\frac{\\partial L}{\\partial \\boldsymbol{y}} W^T\n",
    "$$\n",
    "\n",
    "- $\\frac{\\partial L}{\\partial \\boldsymbol{y}}$ は，逆伝播の入力として与えられる．形状は (N, FN, OH, OW) -> (N, OH, OW, FN) -> ((N x OH x OW), FN) と変換\n",
    "- $\\boldsymbol{x}$ は，im2col適用後の入力データに相当．形状は ((N x OH x OW), (C x FH x FW))\n",
    "- $W$ は，展開後のフィルターに相当．形状は ((C x FH x FW), FN)"
   ]
  },
  {
   "cell_type": "code",
   "execution_count": 24,
   "id": "7f09d73d",
   "metadata": {},
   "outputs": [],
   "source": [
    "class Convolution:\n",
    "    def __init__(self, W, b, stride=1, pad=0):\n",
    "        self.W = W\n",
    "        self.b = b\n",
    "        self.stride = stride\n",
    "        self.pad = pad\n",
    "        \n",
    "    def forward(self, x):\n",
    "        # フィルターと入力データの形状\n",
    "        FN, C, FH, FW = self.W.shape\n",
    "        N, C, H, W = x.shape\n",
    "        \n",
    "        # フィルターと入力データの形状から，出力データの形状を計算\n",
    "        out_h = int(1 + (H + 2*self.pad - FH) / self.stride)\n",
    "        out_w = int(1 + (W + 2*self.pad - FW) / self.stride)\n",
    "        \n",
    "        # フィルターサイズ，ストライド，パディングを考慮して入力データを2次元に展開\n",
    "        col = im2col(x, FH, FW, self.stride, self.pad)\n",
    "        # 1個のフィルターを1列に展開\n",
    "        col_W = self.W.reshape(FN, -1).T\n",
    "        \n",
    "        # 畳み込み演算 ((N x out_h x out_w), (C x FH x FW)) x ((C x FH x FW)), FN) => ((N x out_h x out_w), FN)\n",
    "        out = np.dot(col, col_W) + self.b\n",
    "        \n",
    "        # ((N x out_h x out_w), FN) => (N, FN, out_h, out_w)\n",
    "        out = out.reshape(N, out_h, out_w, -1).transpose(0, 3, 1, 2)\n",
    "        \n",
    "        return out\n",
    "    \n",
    "    def backward(self, dout):\n",
    "        FN, C, FH, FW = self.W.shape\n",
    "        # forwardの出力と同じサイズ(N, FN, out_h, out_w) => ((N x out_h x out_w), FN)\n",
    "        dout = dout.transpose(0,2,3,1).reshape(-1, FN)\n",
    "\n",
    "        self.db = np.sum(dout, axis=0)\n",
    "        self.dW = np.dot(self.col.T, dout)\n",
    "        self.dW = self.dW.transpose(1, 0).reshape(FN, C, FH, FW)\n",
    "\n",
    "        dcol = np.dot(dout, self.col_W.T)\n",
    "        dx = col2im(dcol, self.x.shape, FH, FW, self.stride, self.pad)\n",
    "\n",
    "        return dx"
   ]
  },
  {
   "cell_type": "markdown",
   "id": "e77508ae",
   "metadata": {},
   "source": [
    "# Poolingレイヤの実装\n",
    "- im2col でデータを展開するが，チャンネル方向には独立な処理\n",
    "- 行ごとに最大値を求めて形状を整形する"
   ]
  },
  {
   "cell_type": "code",
   "execution_count": null,
   "id": "1e2459d0",
   "metadata": {
    "collapsed": true
   },
   "outputs": [],
   "source": [
    "class Pooling:\n",
    "    def __init__(self, pool_h, pool_w, stride=1, pad=0):\n",
    "        self.pool_h = pool_h\n",
    "        self.pool_w = pool_w\n",
    "        self.stride = stride\n",
    "        self.pad = pad\n",
    "        \n",
    "    def forward(self, x):\n",
    "        N, C, H, W = x.shape\n",
    "        out_h = int(1 + (H - self.pool_h) / self.stride)\n",
    "        out_w = int(1 + (W - self.pool_w) / self.stride)\n",
    "        \n",
    "        # プーリング適用領域を1行に展開\n",
    "        col = im2col(x, self.pool_h, self.pool_w, self.stride, self.pad) # この段階ではチャンネル方向も1行にまとまっている\n",
    "        col = col.reshape(-1, self.pool_h*self.pool_w)                   # 列数をプーリング領域の高さ x 幅で区切る\n",
    "        \n",
    "        # 各行で最大値取得\n",
    "        out = np.max(col, axis=1)\n",
    "        \n",
    "        # 整形(3)\n",
    "        out = out.reshape(N, out_h, out_w, C).transpose(0, 3, 1, 2)\n",
    "        \n",
    "        return out"
   ]
  },
  {
   "cell_type": "markdown",
   "id": "6f93d2d5",
   "metadata": {},
   "source": [
    "#### プーリングの整形流れ"
   ]
  },
  {
   "cell_type": "code",
   "execution_count": 118,
   "id": "87c546e6",
   "metadata": {
    "scrolled": true
   },
   "outputs": [
    {
     "data": {
      "text/plain": [
       "array([[[[ 0,  1,  2,  3],\n",
       "         [ 4,  5,  6,  7],\n",
       "         [ 8,  9, 10, 11],\n",
       "         [12, 13, 14, 15]],\n",
       "\n",
       "        [[16, 17, 18, 19],\n",
       "         [20, 21, 22, 23],\n",
       "         [24, 25, 26, 27],\n",
       "         [28, 29, 30, 31]],\n",
       "\n",
       "        [[32, 33, 34, 35],\n",
       "         [36, 37, 38, 39],\n",
       "         [40, 41, 42, 43],\n",
       "         [44, 45, 46, 47]]]])"
      ]
     },
     "execution_count": 118,
     "metadata": {},
     "output_type": "execute_result"
    }
   ],
   "source": [
    "a = np.arange(1*3*4*4).reshape(1, 3, 4, 4)\n",
    "a"
   ]
  },
  {
   "cell_type": "code",
   "execution_count": 122,
   "id": "dcca5f59",
   "metadata": {},
   "outputs": [
    {
     "data": {
      "text/plain": [
       "array([[ 0.,  1.,  4.,  5., 16., 17., 20., 21., 32., 33., 36., 37.],\n",
       "       [ 2.,  3.,  6.,  7., 18., 19., 22., 23., 34., 35., 38., 39.],\n",
       "       [ 8.,  9., 12., 13., 24., 25., 28., 29., 40., 41., 44., 45.],\n",
       "       [10., 11., 14., 15., 26., 27., 30., 31., 42., 43., 46., 47.]])"
      ]
     },
     "execution_count": 122,
     "metadata": {},
     "output_type": "execute_result"
    }
   ],
   "source": [
    "b = im2col(a, 2, 2, stride=2, pad=0)\n",
    "b"
   ]
  },
  {
   "cell_type": "code",
   "execution_count": 123,
   "id": "44f11b9a",
   "metadata": {},
   "outputs": [
    {
     "data": {
      "text/plain": [
       "array([[ 0.,  1.,  4.,  5.],\n",
       "       [16., 17., 20., 21.],\n",
       "       [32., 33., 36., 37.],\n",
       "       [ 2.,  3.,  6.,  7.],\n",
       "       [18., 19., 22., 23.],\n",
       "       [34., 35., 38., 39.],\n",
       "       [ 8.,  9., 12., 13.],\n",
       "       [24., 25., 28., 29.],\n",
       "       [40., 41., 44., 45.],\n",
       "       [10., 11., 14., 15.],\n",
       "       [26., 27., 30., 31.],\n",
       "       [42., 43., 46., 47.]])"
      ]
     },
     "execution_count": 123,
     "metadata": {},
     "output_type": "execute_result"
    }
   ],
   "source": [
    "c = b.reshape(-1, 2*2)\n",
    "c"
   ]
  },
  {
   "cell_type": "code",
   "execution_count": 124,
   "id": "a543d575",
   "metadata": {},
   "outputs": [
    {
     "data": {
      "text/plain": [
       "array([ 5., 21., 37.,  7., 23., 39., 13., 29., 45., 15., 31., 47.])"
      ]
     },
     "execution_count": 124,
     "metadata": {},
     "output_type": "execute_result"
    }
   ],
   "source": [
    "d = np.max(c, axis=1)\n",
    "d"
   ]
  },
  {
   "cell_type": "code",
   "execution_count": 125,
   "id": "72301111",
   "metadata": {},
   "outputs": [
    {
     "data": {
      "text/plain": [
       "array([[[[ 5., 21., 37.],\n",
       "         [ 7., 23., 39.]],\n",
       "\n",
       "        [[13., 29., 45.],\n",
       "         [15., 31., 47.]]]])"
      ]
     },
     "execution_count": 125,
     "metadata": {},
     "output_type": "execute_result"
    }
   ],
   "source": [
    "d.reshape(1, 2, 2, 3)"
   ]
  },
  {
   "cell_type": "code",
   "execution_count": 126,
   "id": "a19bf0f6",
   "metadata": {
    "scrolled": true
   },
   "outputs": [
    {
     "data": {
      "text/plain": [
       "array([[[[ 5.,  7.],\n",
       "         [13., 15.]],\n",
       "\n",
       "        [[21., 23.],\n",
       "         [29., 31.]],\n",
       "\n",
       "        [[37., 39.],\n",
       "         [45., 47.]]]])"
      ]
     },
     "execution_count": 126,
     "metadata": {},
     "output_type": "execute_result"
    }
   ],
   "source": [
    "d.reshape(1, 2, 2, 3).transpose(0, 3, 1, 2)"
   ]
  },
  {
   "cell_type": "code",
   "execution_count": null,
   "id": "edfc3529",
   "metadata": {},
   "outputs": [],
   "source": []
  }
 ],
 "metadata": {
  "kernelspec": {
   "display_name": "Python 3 (ipykernel)",
   "language": "python",
   "name": "python3"
  },
  "language_info": {
   "codemirror_mode": {
    "name": "ipython",
    "version": 3
   },
   "file_extension": ".py",
   "mimetype": "text/x-python",
   "name": "python",
   "nbconvert_exporter": "python",
   "pygments_lexer": "ipython3",
   "version": "3.9.6"
  }
 },
 "nbformat": 4,
 "nbformat_minor": 5
}
